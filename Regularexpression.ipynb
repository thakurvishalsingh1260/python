{
  "nbformat": 4,
  "nbformat_minor": 0,
  "metadata": {
    "colab": {
      "provenance": [],
      "authorship_tag": "ABX9TyOLekRVOp91PAGIep5ReXrH"
    },
    "kernelspec": {
      "name": "python3",
      "display_name": "Python 3"
    },
    "language_info": {
      "name": "python"
    }
  },
  "cells": [
    {
      "cell_type": "code",
      "execution_count": 25,
      "metadata": {
        "colab": {
          "base_uri": "https://localhost:8080/"
        },
        "id": "O9ItYYa8gMv2",
        "outputId": "34b6203f-a8aa-46df-f1e6-412ad131d8bb"
      },
      "outputs": [
        {
          "output_type": "stream",
          "name": "stdout",
          "text": [
            "None\n"
          ]
        }
      ],
      "source": [
        "# Regular Expression\n",
        "import re \n",
        "print(re.match('meow','homeowner'))\n"
      ]
    },
    {
      "cell_type": "code",
      "source": [
        "print(re.search('meow','homeowner') )\n"
      ],
      "metadata": {
        "colab": {
          "base_uri": "https://localhost:8080/"
        },
        "id": "QJrYFTzYgw58",
        "outputId": "6fe7a94c-8f57-4dc5-8b36-a716c1070a62"
      },
      "execution_count": 26,
      "outputs": [
        {
          "output_type": "stream",
          "name": "stdout",
          "text": [
            "<re.Match object; span=(2, 6), match='meow'>\n"
          ]
        }
      ]
    },
    {
      "cell_type": "code",
      "source": [
        "re.search('\\w+c{2}\\w*','Occam\\'s Razor')"
      ],
      "metadata": {
        "colab": {
          "base_uri": "https://localhost:8080/"
        },
        "id": "0CpUhPgChGis",
        "outputId": "29225b5f-a02d-499c-a709-bc1b992edee7"
      },
      "execution_count": 27,
      "outputs": [
        {
          "output_type": "execute_result",
          "data": {
            "text/plain": [
              "<re.Match object; span=(0, 5), match='Occam'>"
            ]
          },
          "metadata": {},
          "execution_count": 27
        }
      ]
    },
    {
      "cell_type": "code",
      "source": [
        "re.search(r'[\\w.-]+@[\\w-]+\\.[\\w]+','Please mail it to thakurvishalsingh1260@gmail.com').group()"
      ],
      "metadata": {
        "colab": {
          "base_uri": "https://localhost:8080/",
          "height": 36
        },
        "id": "7ecVweMLhhtG",
        "outputId": "0204f4c5-7373-4efa-a3a5-8ca81aa93347"
      },
      "execution_count": 28,
      "outputs": [
        {
          "output_type": "execute_result",
          "data": {
            "text/plain": [
              "'thakurvishalsingh1260@gmail.com'"
            ],
            "application/vnd.google.colaboratory.intrinsic+json": {
              "type": "string"
            }
          },
          "metadata": {},
          "execution_count": 28
        }
      ]
    }
  ]
}