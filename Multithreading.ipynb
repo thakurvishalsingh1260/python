{
  "nbformat": 4,
  "nbformat_minor": 0,
  "metadata": {
    "colab": {
      "provenance": [],
      "authorship_tag": "ABX9TyOH/hZEXWUQ4dCdJ2Kcy5E0",
      "include_colab_link": true
    },
    "kernelspec": {
      "name": "python3",
      "display_name": "Python 3"
    },
    "language_info": {
      "name": "python"
    }
  },
  "cells": [
    {
      "cell_type": "markdown",
      "metadata": {
        "id": "view-in-github",
        "colab_type": "text"
      },
      "source": [
        "<a href=\"https://colab.research.google.com/github/thakurvishalsingh1260/python/blob/main/Multithreading.ipynb\" target=\"_parent\"><img src=\"https://colab.research.google.com/assets/colab-badge.svg\" alt=\"Open In Colab\"/></a>"
      ]
    },
    {
      "cell_type": "code",
      "execution_count": 46,
      "metadata": {
        "id": "y9VZ4o5Wo7ge",
        "colab": {
          "base_uri": "https://localhost:8080/"
        },
        "outputId": "87a7b708-2551-4501-ed4e-d508aa91fc02"
      },
      "outputs": [
        {
          "output_type": "stream",
          "name": "stdout",
          "text": [
            "7*2=14\n",
            "7*3=21\n",
            "\n",
            "\n",
            "Finished\n"
          ]
        }
      ],
      "source": [
        "import threading\n",
        "def double(num):\n",
        "  print(f'{num}*2={num*2}\\n')\n",
        "def triple(num):\n",
        "  print(f'{num}*3={num*3}\\n')\n",
        "def demo():\n",
        "  t1=threading.Thread(target=double,args=(7,))\n",
        "  t2=threading.Thread(target=triple,args=(7,))\n",
        "  t1.start()\n",
        "  t2.start()\n",
        "  t1.join()\n",
        "  t2.join()\n",
        "  print(\"Finished\")\n",
        "demo()\n",
        "  "
      ]
    },
    {
      "cell_type": "code",
      "source": [
        "threading.active_count()"
      ],
      "metadata": {
        "colab": {
          "base_uri": "https://localhost:8080/"
        },
        "id": "qI3VJZgTq02A",
        "outputId": "9f6768fd-e1f4-4797-b102-4c8d1f110b72"
      },
      "execution_count": 47,
      "outputs": [
        {
          "output_type": "execute_result",
          "data": {
            "text/plain": [
              "10"
            ]
          },
          "metadata": {},
          "execution_count": 47
        }
      ]
    },
    {
      "cell_type": "code",
      "source": [
        "threading.main_thread()"
      ],
      "metadata": {
        "colab": {
          "base_uri": "https://localhost:8080/"
        },
        "id": "UBmyBf14q88U",
        "outputId": "4cd2898f-bf3b-45b6-e0e3-3ab5f6530961"
      },
      "execution_count": 48,
      "outputs": [
        {
          "output_type": "execute_result",
          "data": {
            "text/plain": [
              "<_MainThread(MainThread, started 139778622084992)>"
            ]
          },
          "metadata": {},
          "execution_count": 48
        }
      ]
    },
    {
      "cell_type": "code",
      "source": [
        "threading.get_ident()"
      ],
      "metadata": {
        "colab": {
          "base_uri": "https://localhost:8080/"
        },
        "id": "Cf4JtosDrGEP",
        "outputId": "8afc4f9c-7304-4c99-9ba5-362f0f7c30f8"
      },
      "execution_count": 49,
      "outputs": [
        {
          "output_type": "execute_result",
          "data": {
            "text/plain": [
              "139778622084992"
            ]
          },
          "metadata": {},
          "execution_count": 49
        }
      ]
    },
    {
      "cell_type": "code",
      "source": [
        "threading.enumerate()"
      ],
      "metadata": {
        "colab": {
          "base_uri": "https://localhost:8080/"
        },
        "id": "ZaEMvasnrOik",
        "outputId": "3a313bba-2ba3-45db-8549-793ceb8a9a0b"
      },
      "execution_count": 50,
      "outputs": [
        {
          "output_type": "execute_result",
          "data": {
            "text/plain": [
              "[<_MainThread(MainThread, started 139778622084992)>,\n",
              " <Thread(Thread-2, started daemon 139778459371264)>,\n",
              " <Heartbeat(Thread-3, started daemon 139778450978560)>,\n",
              " <ParentPollerUnix(Thread-1, started daemon 139778379024128)>,\n",
              " <WriterThread(pydevd.Writer, started daemon 139778243634944)>,\n",
              " <ReaderThread(pydevd.Reader, started daemon 139778235242240)>,\n",
              " <PyDBCommandThread(pydevd.CommandThread, started daemon 139778226849536)>,\n",
              " <_TimeoutThread(Thread-9, started daemon 139778218456832)>,\n",
              " <CheckAliveThread(pydevd.CheckAliveThread, started 139778210064128)>,\n",
              " <Thread(_colab_inspector_thread, started daemon 139778191161088)>]"
            ]
          },
          "metadata": {},
          "execution_count": 50
        }
      ]
    },
    {
      "cell_type": "code",
      "source": [
        "t1=threading.Thread(target=double,args=(7,))"
      ],
      "metadata": {
        "id": "LMdO49ZhrX3t"
      },
      "execution_count": 51,
      "outputs": []
    },
    {
      "cell_type": "code",
      "source": [
        "t1.is_alive()"
      ],
      "metadata": {
        "colab": {
          "base_uri": "https://localhost:8080/"
        },
        "id": "ygF_8agGrZ4N",
        "outputId": "cd1f2332-5c7b-42a0-9eb6-d84f22fa2138"
      },
      "execution_count": 52,
      "outputs": [
        {
          "output_type": "execute_result",
          "data": {
            "text/plain": [
              "False"
            ]
          },
          "metadata": {},
          "execution_count": 52
        }
      ]
    },
    {
      "cell_type": "code",
      "source": [
        "t1.isDaemon()"
      ],
      "metadata": {
        "colab": {
          "base_uri": "https://localhost:8080/"
        },
        "id": "4vR63JXxrvap",
        "outputId": "f7fdc952-0aea-4acb-dfb7-1ab494daccb1"
      },
      "execution_count": 53,
      "outputs": [
        {
          "output_type": "execute_result",
          "data": {
            "text/plain": [
              "False"
            ]
          },
          "metadata": {},
          "execution_count": 53
        }
      ]
    }
  ]
}