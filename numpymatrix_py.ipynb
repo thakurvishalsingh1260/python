{
  "nbformat": 4,
  "nbformat_minor": 0,
  "metadata": {
    "colab": {
      "provenance": [],
      "authorship_tag": "ABX9TyP8Tf46DaiKvM/UQRnCVwUT",
      "include_colab_link": true
    },
    "kernelspec": {
      "name": "python3",
      "display_name": "Python 3"
    },
    "language_info": {
      "name": "python"
    }
  },
  "cells": [
    {
      "cell_type": "markdown",
      "metadata": {
        "id": "view-in-github",
        "colab_type": "text"
      },
      "source": [
        "<a href=\"https://colab.research.google.com/github/thakurvishalsingh1260/python/blob/main/numpymatrix_py.ipynb\" target=\"_parent\"><img src=\"https://colab.research.google.com/assets/colab-badge.svg\" alt=\"Open In Colab\"/></a>"
      ]
    },
    {
      "cell_type": "code",
      "execution_count": 56,
      "metadata": {
        "colab": {
          "base_uri": "https://localhost:8080/"
        },
        "id": "r-Cw7003Y98o",
        "outputId": "a01275a2-f236-4527-f48b-9906da9780d5"
      },
      "outputs": [
        {
          "output_type": "stream",
          "name": "stdout",
          "text": [
            "[[49 45 38]\n",
            " [46 64 77]]\n"
          ]
        }
      ],
      "source": [
        "#Addition\n",
        "import numpy as np\n",
        "x=([6,4,3],[23,45,67])\n",
        "y=([43,41,35],[23,19,10])\n",
        "add1=np.add(x,y)\n",
        "print(add1)"
      ]
    },
    {
      "cell_type": "code",
      "source": [
        "#Substraction\n",
        "import numpy as np\n",
        "x=([6,4,3],[23,45,67])\n",
        "y=([43,41,35],[23,19,10])\n",
        "sub=np.subtract(x,y)\n",
        "print(sub1)"
      ],
      "metadata": {
        "colab": {
          "base_uri": "https://localhost:8080/"
        },
        "id": "OWGUt-82adfE",
        "outputId": "65a7ac2e-42f3-4944-afda-b4af2228fa93"
      },
      "execution_count": 57,
      "outputs": [
        {
          "output_type": "stream",
          "name": "stdout",
          "text": [
            "[[-37 -37 -32]\n",
            " [  0  26  57]]\n"
          ]
        }
      ]
    },
    {
      "cell_type": "code",
      "source": [
        "#Multiplication\n",
        "import numpy as np\n",
        "x=([6,4,3],[23,45,67],[2,4,8])\n",
        "y=([43,41,35],[23,19,10],[5,7,1])\n",
        "mul=np.dot(x,y)\n",
        "print(mul)"
      ],
      "metadata": {
        "colab": {
          "base_uri": "https://localhost:8080/"
        },
        "id": "EBmSjE6Faff9",
        "outputId": "1c1841c1-0170-42a0-dd81-99e91163f424"
      },
      "execution_count": 58,
      "outputs": [
        {
          "output_type": "stream",
          "name": "stdout",
          "text": [
            "[[ 365  343  253]\n",
            " [2359 2267 1322]\n",
            " [ 218  214  118]]\n"
          ]
        }
      ]
    },
    {
      "cell_type": "code",
      "source": [
        "#Divide\n",
        "div=np.divide(x,y)\n",
        "print(div)"
      ],
      "metadata": {
        "colab": {
          "base_uri": "https://localhost:8080/"
        },
        "id": "R369ZWZCadko",
        "outputId": "2deab4eb-c92f-47f5-beab-83497c3b0035"
      },
      "execution_count": 59,
      "outputs": [
        {
          "output_type": "stream",
          "name": "stdout",
          "text": [
            "[[0.13953488 0.09756098 0.08571429]\n",
            " [1.         2.36842105 6.7       ]\n",
            " [0.4        0.57142857 8.        ]]\n"
          ]
        }
      ]
    },
    {
      "cell_type": "code",
      "source": [
        "#transpose\n",
        "trans=np.transpose(x)\n",
        "print(trans)"
      ],
      "metadata": {
        "colab": {
          "base_uri": "https://localhost:8080/"
        },
        "id": "BzB2N-qTdrCX",
        "outputId": "922a26c4-1d73-4cf0-fbe7-7ef4aae7a492"
      },
      "execution_count": 60,
      "outputs": [
        {
          "output_type": "stream",
          "name": "stdout",
          "text": [
            "[[ 6 23  2]\n",
            " [ 4 45  4]\n",
            " [ 3 67  8]]\n"
          ]
        }
      ]
    }
  ]
}