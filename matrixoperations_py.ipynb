{
  "nbformat": 4,
  "nbformat_minor": 0,
  "metadata": {
    "colab": {
      "provenance": [],
      "toc_visible": true,
      "authorship_tag": "ABX9TyPTV3HaZtLeah6/ydIBrbgx",
      "include_colab_link": true
    },
    "kernelspec": {
      "name": "python3",
      "display_name": "Python 3"
    },
    "language_info": {
      "name": "python"
    }
  },
  "cells": [
    {
      "cell_type": "markdown",
      "metadata": {
        "id": "view-in-github",
        "colab_type": "text"
      },
      "source": [
        "<a href=\"https://colab.research.google.com/github/thakurvishalsingh1260/python/blob/main/matrixoperations_py.ipynb\" target=\"_parent\"><img src=\"https://colab.research.google.com/assets/colab-badge.svg\" alt=\"Open In Colab\"/></a>"
      ]
    },
    {
      "cell_type": "code",
      "execution_count": 47,
      "metadata": {
        "colab": {
          "base_uri": "https://localhost:8080/"
        },
        "id": "5Yg9KUemTPyn",
        "outputId": "6823d246-1bc1-4f10-bafe-5fcdbac85b41"
      },
      "outputs": [
        {
          "output_type": "stream",
          "name": "stdout",
          "text": [
            "[7, 9, 11]\n",
            "[7, 9, 16]\n"
          ]
        }
      ],
      "source": [
        "#Addition\n",
        "a=[[1,2,3],\n",
        "   [5,6,7]]\n",
        "b=[[6,7,8],\n",
        "   [2,3,9]]\n",
        "add=[[0,0,0],\n",
        "        [0,0,0]]\n",
        "for i in range(len(a)):\n",
        "  for j in range(len(a[0])):\n",
        "    add[i][j]=a[i][j]+b[i][j]\n",
        "for r in add:\n",
        "  print(r)\n"
      ]
    },
    {
      "cell_type": "code",
      "source": [
        "#substaction\n",
        "from ast import Sub\n",
        "a=[[1,2,3],\n",
        "   [5,6,7]]\n",
        "b=[[6,7,8],\n",
        "   [2,3,9]]\n",
        "sub=[[0,0,0],\n",
        "        [0,0,0]]\n",
        "for i in range(len(a)):\n",
        "  for j in range(len(a[0])):\n",
        "    sub[i][j]=a[i][j]-b[i][j]\n",
        "for r in sub:\n",
        "  print(r)\n"
      ],
      "metadata": {
        "colab": {
          "base_uri": "https://localhost:8080/"
        },
        "id": "3jJU_D-RVoks",
        "outputId": "43f28f69-f449-4480-847b-b76927c8acd8"
      },
      "execution_count": 48,
      "outputs": [
        {
          "output_type": "stream",
          "name": "stdout",
          "text": [
            "[-5, -5, -5]\n",
            "[3, 3, -2]\n"
          ]
        }
      ]
    },
    {
      "cell_type": "code",
      "source": [
        "#multiplication\n",
        "a=[[1,2,3],\n",
        "   [5,6,7]]\n",
        "b=[[6,7,8],\n",
        "   [2,3,9]]\n",
        "mul=[[0,0,0],\n",
        "        [0,0,0]]\n",
        "for i in range(len(a)):\n",
        "  for j in range(len(a[0])):\n",
        "    mul[i][j]=a[i][j]*b[i][j]\n",
        "for r in mul:\n",
        "  print(r)\n"
      ],
      "metadata": {
        "colab": {
          "base_uri": "https://localhost:8080/"
        },
        "id": "CwggwUc1WH0T",
        "outputId": "8d038fd5-099b-476f-f20c-43c47c082ff5"
      },
      "execution_count": 49,
      "outputs": [
        {
          "output_type": "stream",
          "name": "stdout",
          "text": [
            "[6, 14, 24]\n",
            "[10, 18, 63]\n"
          ]
        }
      ]
    },
    {
      "cell_type": "code",
      "source": [
        "#divide\n",
        "a=[[1,2,3],\n",
        "   [5,6,7]]\n",
        "b=[[6,7,8],\n",
        "   [2,3,9]]\n",
        "div=[[0,0,0],\n",
        "        [0,0,0]]\n",
        "for i in range(len(a)):\n",
        "  for j in range(len(a[0])):\n",
        "    div[i][j]=a[i][j]/b[i][j]\n",
        "for r in div:\n",
        "  print(r)\n"
      ],
      "metadata": {
        "colab": {
          "base_uri": "https://localhost:8080/"
        },
        "id": "pTo5p_GGWNUX",
        "outputId": "8c19198b-7f82-4dc8-891c-eaa8a0b6abfe"
      },
      "execution_count": 50,
      "outputs": [
        {
          "output_type": "stream",
          "name": "stdout",
          "text": [
            "[0.16666666666666666, 0.2857142857142857, 0.375]\n",
            "[2.5, 2.0, 0.7777777777777778]\n"
          ]
        }
      ]
    },
    {
      "cell_type": "code",
      "source": [
        "#transpose matrix\n",
        "a=[[1,2,3],\n",
        "   [5,6,7]]\n",
        "trans=[[0,0],\n",
        "       [0,0],\n",
        "       [0,0]]\n",
        "for i in range(len(a)):\n",
        "  for j in range(len(a[0])):\n",
        "    trans[j][i]=a[i][j]\n",
        "for r in trans:\n",
        "  print(r)\n",
        "    "
      ],
      "metadata": {
        "colab": {
          "base_uri": "https://localhost:8080/"
        },
        "id": "c4dTBAYgWS7s",
        "outputId": "00a5aec9-54d7-4ca3-c361-03b62eb5eece"
      },
      "execution_count": 51,
      "outputs": [
        {
          "output_type": "stream",
          "name": "stdout",
          "text": [
            "[1, 5]\n",
            "[2, 6]\n",
            "[3, 7]\n"
          ]
        }
      ]
    }
  ]
}