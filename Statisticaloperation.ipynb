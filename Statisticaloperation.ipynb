{
  "nbformat": 4,
  "nbformat_minor": 0,
  "metadata": {
    "colab": {
      "provenance": [],
      "authorship_tag": "ABX9TyPwmDLlVDPjm7wUqWN/k0ce",
      "include_colab_link": true
    },
    "kernelspec": {
      "name": "python3",
      "display_name": "Python 3"
    },
    "language_info": {
      "name": "python"
    }
  },
  "cells": [
    {
      "cell_type": "markdown",
      "metadata": {
        "id": "view-in-github",
        "colab_type": "text"
      },
      "source": [
        "<a href=\"https://colab.research.google.com/github/thakurvishalsingh1260/python/blob/main/Statisticaloperation.ipynb\" target=\"_parent\"><img src=\"https://colab.research.google.com/assets/colab-badge.svg\" alt=\"Open In Colab\"/></a>"
      ]
    },
    {
      "cell_type": "code",
      "execution_count": 11,
      "metadata": {
        "colab": {
          "base_uri": "https://localhost:8080/"
        },
        "id": "ppStz5Z8gbec",
        "outputId": "95424a97-70e0-4a91-9233-9d51ad84a7e7"
      },
      "outputs": [
        {
          "output_type": "stream",
          "name": "stdout",
          "text": [
            "mean 31.125\n",
            "median 24.0\n",
            "mode ModeResult(mode=array([2]), count=array([2]))\n",
            "Standard deviation 30.097497819586266\n"
          ]
        }
      ],
      "source": [
        "import numpy as np\n",
        "from scipy import stats\n",
        "data=[1,2,3,56,73,2,45,67]\n",
        "mean=np.mean(data)\n",
        "median=np.median(data)\n",
        "mode=stats.mode(data)\n",
        "stnd=np.std(data)\n",
        "\n",
        "print(\"mean\",mean)\n",
        "print(\"median\",median)\n",
        "print(\"mode\",mode)\n",
        "print(\"Standard deviation\",stnd)\n",
        "\n"
      ]
    },
    {
      "cell_type": "code",
      "source": [],
      "metadata": {
        "id": "MRvLP0Mmi6Ft"
      },
      "execution_count": 11,
      "outputs": []
    }
  ]
}